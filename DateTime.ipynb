{
 "cells": [
  {
   "cell_type": "code",
   "execution_count": 1,
   "id": "99d643b5",
   "metadata": {
    "ExecuteTime": {
     "end_time": "2024-11-16T14:58:04.290760Z",
     "start_time": "2024-11-16T14:58:03.861874Z"
    }
   },
   "outputs": [],
   "source": [
    "import datetime as dt\n",
    "import pandas as pd"
   ]
  },
  {
   "cell_type": "code",
   "execution_count": 2,
   "id": "0869040b",
   "metadata": {
    "ExecuteTime": {
     "end_time": "2024-11-16T14:58:06.698974Z",
     "start_time": "2024-11-16T14:58:04.292283Z"
    }
   },
   "outputs": [
    {
     "data": {
      "text/html": [
       "<div>\n",
       "<style scoped>\n",
       "    .dataframe tbody tr th:only-of-type {\n",
       "        vertical-align: middle;\n",
       "    }\n",
       "\n",
       "    .dataframe tbody tr th {\n",
       "        vertical-align: top;\n",
       "    }\n",
       "\n",
       "    .dataframe thead th {\n",
       "        text-align: right;\n",
       "    }\n",
       "</style>\n",
       "<table border=\"1\" class=\"dataframe\">\n",
       "  <thead>\n",
       "    <tr style=\"text-align: right;\">\n",
       "      <th></th>\n",
       "      <th>start_time</th>\n",
       "      <th>stop_time</th>\n",
       "    </tr>\n",
       "  </thead>\n",
       "  <tbody>\n",
       "    <tr>\n",
       "      <th>0</th>\n",
       "      <td>2020-06-01 00:00:03.3720</td>\n",
       "      <td>2020-06-01 00:17:46.2080</td>\n",
       "    </tr>\n",
       "    <tr>\n",
       "      <th>1</th>\n",
       "      <td>2020-06-01 00:00:03.5530</td>\n",
       "      <td>2020-06-01 01:03:33.9360</td>\n",
       "    </tr>\n",
       "    <tr>\n",
       "      <th>2</th>\n",
       "      <td>2020-06-01 00:00:09.6140</td>\n",
       "      <td>2020-06-01 00:17:06.8330</td>\n",
       "    </tr>\n",
       "    <tr>\n",
       "      <th>3</th>\n",
       "      <td>2020-06-01 00:00:12.1780</td>\n",
       "      <td>2020-06-01 00:03:58.8640</td>\n",
       "    </tr>\n",
       "    <tr>\n",
       "      <th>4</th>\n",
       "      <td>2020-06-01 00:00:21.2550</td>\n",
       "      <td>2020-06-01 00:24:18.9650</td>\n",
       "    </tr>\n",
       "    <tr>\n",
       "      <th>...</th>\n",
       "      <td>...</td>\n",
       "      <td>...</td>\n",
       "    </tr>\n",
       "    <tr>\n",
       "      <th>1882268</th>\n",
       "      <td>2020-06-30 23:59:41.1160</td>\n",
       "      <td>2020-07-01 00:11:06.7790</td>\n",
       "    </tr>\n",
       "    <tr>\n",
       "      <th>1882269</th>\n",
       "      <td>2020-06-30 23:59:46.4260</td>\n",
       "      <td>2020-07-01 00:07:13.0860</td>\n",
       "    </tr>\n",
       "    <tr>\n",
       "      <th>1882270</th>\n",
       "      <td>2020-06-30 23:59:47.4770</td>\n",
       "      <td>2020-07-01 00:07:06.5590</td>\n",
       "    </tr>\n",
       "    <tr>\n",
       "      <th>1882271</th>\n",
       "      <td>2020-06-30 23:59:53.3950</td>\n",
       "      <td>2020-07-01 00:14:43.4270</td>\n",
       "    </tr>\n",
       "    <tr>\n",
       "      <th>1882272</th>\n",
       "      <td>2020-06-30 23:59:53.9010</td>\n",
       "      <td>2020-07-01 00:07:07.0950</td>\n",
       "    </tr>\n",
       "  </tbody>\n",
       "</table>\n",
       "<p>1882273 rows × 2 columns</p>\n",
       "</div>"
      ],
      "text/plain": [
       "                       start_time                 stop_time\n",
       "0        2020-06-01 00:00:03.3720  2020-06-01 00:17:46.2080\n",
       "1        2020-06-01 00:00:03.5530  2020-06-01 01:03:33.9360\n",
       "2        2020-06-01 00:00:09.6140  2020-06-01 00:17:06.8330\n",
       "3        2020-06-01 00:00:12.1780  2020-06-01 00:03:58.8640\n",
       "4        2020-06-01 00:00:21.2550  2020-06-01 00:24:18.9650\n",
       "...                           ...                       ...\n",
       "1882268  2020-06-30 23:59:41.1160  2020-07-01 00:11:06.7790\n",
       "1882269  2020-06-30 23:59:46.4260  2020-07-01 00:07:13.0860\n",
       "1882270  2020-06-30 23:59:47.4770  2020-07-01 00:07:06.5590\n",
       "1882271  2020-06-30 23:59:53.3950  2020-07-01 00:14:43.4270\n",
       "1882272  2020-06-30 23:59:53.9010  2020-07-01 00:07:07.0950\n",
       "\n",
       "[1882273 rows x 2 columns]"
      ]
     },
     "execution_count": 2,
     "metadata": {},
     "output_type": "execute_result"
    }
   ],
   "source": [
    "citibike=pd.read_csv('citibike.csv.xls')\n",
    "citibike"
   ]
  },
  {
   "cell_type": "markdown",
   "id": "b0883721",
   "metadata": {},
   "source": [
    "# Q1:Convert the start_time and stop_time columns to store datetime(Timestamp) values instead of string"
   ]
  },
  {
   "cell_type": "code",
   "execution_count": 3,
   "id": "c55e720c",
   "metadata": {
    "ExecuteTime": {
     "end_time": "2024-11-16T14:58:06.705473Z",
     "start_time": "2024-11-16T14:58:06.700461Z"
    }
   },
   "outputs": [
    {
     "data": {
      "text/plain": [
       "start_time    object\n",
       "stop_time     object\n",
       "dtype: object"
      ]
     },
     "execution_count": 3,
     "metadata": {},
     "output_type": "execute_result"
    }
   ],
   "source": [
    "citibike.dtypes"
   ]
  },
  {
   "cell_type": "code",
   "execution_count": 4,
   "id": "4e7ecf5c",
   "metadata": {
    "ExecuteTime": {
     "end_time": "2024-11-16T14:58:08.968837Z",
     "start_time": "2024-11-16T14:58:06.707738Z"
    }
   },
   "outputs": [],
   "source": [
    "citibike['start_time']=pd.to_datetime(citibike['start_time'])\n",
    "citibike['stop_time']=pd.to_datetime(citibike['stop_time'])"
   ]
  },
  {
   "cell_type": "code",
   "execution_count": 5,
   "id": "4de9cc2d",
   "metadata": {
    "ExecuteTime": {
     "end_time": "2024-11-16T14:58:08.975866Z",
     "start_time": "2024-11-16T14:58:08.970277Z"
    }
   },
   "outputs": [
    {
     "data": {
      "text/plain": [
       "start_time    datetime64[ns]\n",
       "stop_time     datetime64[ns]\n",
       "dtype: object"
      ]
     },
     "execution_count": 5,
     "metadata": {},
     "output_type": "execute_result"
    }
   ],
   "source": [
    "citibike.dtypes"
   ]
  },
  {
   "cell_type": "markdown",
   "id": "9586acfe",
   "metadata": {},
   "source": [
    "# Q2: Count rides that occured on each day of week (Monday,Tuesday and so on).Which weekdays is the most popular for a bike ride?USe the satrt_time column aas your starting point"
   ]
  },
  {
   "cell_type": "code",
   "execution_count": 6,
   "id": "c5a3c6ae",
   "metadata": {
    "ExecuteTime": {
     "end_time": "2024-11-16T14:58:09.372424Z",
     "start_time": "2024-11-16T14:58:08.976872Z"
    }
   },
   "outputs": [],
   "source": [
    "citibike['Day_of_week']=citibike['start_time'].dt.day_name()"
   ]
  },
  {
   "cell_type": "code",
   "execution_count": 7,
   "id": "ce34d6c5",
   "metadata": {
    "ExecuteTime": {
     "end_time": "2024-11-16T14:58:09.402284Z",
     "start_time": "2024-11-16T14:58:09.374434Z"
    }
   },
   "outputs": [
    {
     "data": {
      "text/html": [
       "<div>\n",
       "<style scoped>\n",
       "    .dataframe tbody tr th:only-of-type {\n",
       "        vertical-align: middle;\n",
       "    }\n",
       "\n",
       "    .dataframe tbody tr th {\n",
       "        vertical-align: top;\n",
       "    }\n",
       "\n",
       "    .dataframe thead th {\n",
       "        text-align: right;\n",
       "    }\n",
       "</style>\n",
       "<table border=\"1\" class=\"dataframe\">\n",
       "  <thead>\n",
       "    <tr style=\"text-align: right;\">\n",
       "      <th></th>\n",
       "      <th>start_time</th>\n",
       "      <th>stop_time</th>\n",
       "      <th>Day_of_week</th>\n",
       "    </tr>\n",
       "  </thead>\n",
       "  <tbody>\n",
       "    <tr>\n",
       "      <th>0</th>\n",
       "      <td>2020-06-01 00:00:03.372</td>\n",
       "      <td>2020-06-01 00:17:46.208</td>\n",
       "      <td>Monday</td>\n",
       "    </tr>\n",
       "    <tr>\n",
       "      <th>1</th>\n",
       "      <td>2020-06-01 00:00:03.553</td>\n",
       "      <td>2020-06-01 01:03:33.936</td>\n",
       "      <td>Monday</td>\n",
       "    </tr>\n",
       "    <tr>\n",
       "      <th>2</th>\n",
       "      <td>2020-06-01 00:00:09.614</td>\n",
       "      <td>2020-06-01 00:17:06.833</td>\n",
       "      <td>Monday</td>\n",
       "    </tr>\n",
       "    <tr>\n",
       "      <th>3</th>\n",
       "      <td>2020-06-01 00:00:12.178</td>\n",
       "      <td>2020-06-01 00:03:58.864</td>\n",
       "      <td>Monday</td>\n",
       "    </tr>\n",
       "    <tr>\n",
       "      <th>4</th>\n",
       "      <td>2020-06-01 00:00:21.255</td>\n",
       "      <td>2020-06-01 00:24:18.965</td>\n",
       "      <td>Monday</td>\n",
       "    </tr>\n",
       "    <tr>\n",
       "      <th>...</th>\n",
       "      <td>...</td>\n",
       "      <td>...</td>\n",
       "      <td>...</td>\n",
       "    </tr>\n",
       "    <tr>\n",
       "      <th>1882268</th>\n",
       "      <td>2020-06-30 23:59:41.116</td>\n",
       "      <td>2020-07-01 00:11:06.779</td>\n",
       "      <td>Tuesday</td>\n",
       "    </tr>\n",
       "    <tr>\n",
       "      <th>1882269</th>\n",
       "      <td>2020-06-30 23:59:46.426</td>\n",
       "      <td>2020-07-01 00:07:13.086</td>\n",
       "      <td>Tuesday</td>\n",
       "    </tr>\n",
       "    <tr>\n",
       "      <th>1882270</th>\n",
       "      <td>2020-06-30 23:59:47.477</td>\n",
       "      <td>2020-07-01 00:07:06.559</td>\n",
       "      <td>Tuesday</td>\n",
       "    </tr>\n",
       "    <tr>\n",
       "      <th>1882271</th>\n",
       "      <td>2020-06-30 23:59:53.395</td>\n",
       "      <td>2020-07-01 00:14:43.427</td>\n",
       "      <td>Tuesday</td>\n",
       "    </tr>\n",
       "    <tr>\n",
       "      <th>1882272</th>\n",
       "      <td>2020-06-30 23:59:53.901</td>\n",
       "      <td>2020-07-01 00:07:07.095</td>\n",
       "      <td>Tuesday</td>\n",
       "    </tr>\n",
       "  </tbody>\n",
       "</table>\n",
       "<p>1882273 rows × 3 columns</p>\n",
       "</div>"
      ],
      "text/plain": [
       "                     start_time               stop_time Day_of_week\n",
       "0       2020-06-01 00:00:03.372 2020-06-01 00:17:46.208      Monday\n",
       "1       2020-06-01 00:00:03.553 2020-06-01 01:03:33.936      Monday\n",
       "2       2020-06-01 00:00:09.614 2020-06-01 00:17:06.833      Monday\n",
       "3       2020-06-01 00:00:12.178 2020-06-01 00:03:58.864      Monday\n",
       "4       2020-06-01 00:00:21.255 2020-06-01 00:24:18.965      Monday\n",
       "...                         ...                     ...         ...\n",
       "1882268 2020-06-30 23:59:41.116 2020-07-01 00:11:06.779     Tuesday\n",
       "1882269 2020-06-30 23:59:46.426 2020-07-01 00:07:13.086     Tuesday\n",
       "1882270 2020-06-30 23:59:47.477 2020-07-01 00:07:06.559     Tuesday\n",
       "1882271 2020-06-30 23:59:53.395 2020-07-01 00:14:43.427     Tuesday\n",
       "1882272 2020-06-30 23:59:53.901 2020-07-01 00:07:07.095     Tuesday\n",
       "\n",
       "[1882273 rows x 3 columns]"
      ]
     },
     "execution_count": 7,
     "metadata": {},
     "output_type": "execute_result"
    }
   ],
   "source": [
    "citibike"
   ]
  },
  {
   "cell_type": "code",
   "execution_count": 8,
   "id": "3f0326b7",
   "metadata": {
    "ExecuteTime": {
     "end_time": "2024-11-16T14:58:09.465037Z",
     "start_time": "2024-11-16T14:58:09.403585Z"
    }
   },
   "outputs": [
    {
     "data": {
      "text/plain": [
       "0         0 days 00:17:42.836000\n",
       "1         0 days 01:03:30.383000\n",
       "2         0 days 00:16:57.219000\n",
       "3         0 days 00:03:46.686000\n",
       "4         0 days 00:23:57.710000\n",
       "                   ...          \n",
       "1882268   0 days 00:11:25.663000\n",
       "1882269   0 days 00:07:26.660000\n",
       "1882270   0 days 00:07:19.082000\n",
       "1882271   0 days 00:14:50.032000\n",
       "1882272   0 days 00:07:13.194000\n",
       "Length: 1882273, dtype: timedelta64[ns]"
      ]
     },
     "execution_count": 8,
     "metadata": {},
     "output_type": "execute_result"
    }
   ],
   "source": [
    "popular_day=citibike['stop_time']-citibike['start_time']\n",
    "popular_day"
   ]
  },
  {
   "cell_type": "code",
   "execution_count": 9,
   "id": "cba22aa2",
   "metadata": {
    "ExecuteTime": {
     "end_time": "2024-11-16T14:58:09.763047Z",
     "start_time": "2024-11-16T14:58:09.466462Z"
    }
   },
   "outputs": [
    {
     "data": {
      "text/plain": [
       "50593     32 days 15:01:54.940000\n",
       "98339     31 days 01:47:20.632000\n",
       "52306     30 days 19:32:20.696000\n",
       "15171     30 days 04:26:48.424000\n",
       "149761    28 days 09:24:50.696000\n",
       "                    ...          \n",
       "195591     0 days 00:01:01.011000\n",
       "1681750    0 days 00:01:01.008000\n",
       "723961     0 days 00:01:01.008000\n",
       "830544     0 days 00:01:01.003000\n",
       "1810037           0 days 00:01:01\n",
       "Length: 1882273, dtype: timedelta64[ns]"
      ]
     },
     "execution_count": 9,
     "metadata": {},
     "output_type": "execute_result"
    }
   ],
   "source": [
    "popular_day.sort_values(ascending=False)"
   ]
  },
  {
   "cell_type": "code",
   "execution_count": 10,
   "id": "6a0e79a5",
   "metadata": {
    "ExecuteTime": {
     "end_time": "2024-11-16T14:58:09.776133Z",
     "start_time": "2024-11-16T14:58:09.765537Z"
    }
   },
   "outputs": [
    {
     "data": {
      "text/plain": [
       "start_time     2020-06-01 21:30:17.759000\n",
       "stop_time      2020-07-04 12:32:12.699000\n",
       "Day_of_week                        Monday\n",
       "Name: 50593, dtype: object"
      ]
     },
     "execution_count": 10,
     "metadata": {},
     "output_type": "execute_result"
    }
   ],
   "source": [
    "citibike.loc[50593]"
   ]
  },
  {
   "cell_type": "markdown",
   "id": "35bc6d01",
   "metadata": {},
   "source": [
    "# Q3: Count the rides per week for each week within the month.To do so,round each date in the start_time column to its previous or current monday.Assume that each week starts at monday and ends on sunday.Thus the first week of june would be monday,Jine 1 through Sunday,June7"
   ]
  },
  {
   "cell_type": "code",
   "execution_count": 11,
   "id": "3a532bd0",
   "metadata": {
    "ExecuteTime": {
     "end_time": "2024-11-16T14:58:09.816007Z",
     "start_time": "2024-11-16T14:58:09.777602Z"
    }
   },
   "outputs": [
    {
     "data": {
      "text/plain": [
       "0           True\n",
       "1           True\n",
       "2           True\n",
       "3           True\n",
       "4           True\n",
       "           ...  \n",
       "1882268    False\n",
       "1882269    False\n",
       "1882270    False\n",
       "1882271    False\n",
       "1882272    False\n",
       "Name: start_time, Length: 1882273, dtype: bool"
      ]
     },
     "execution_count": 11,
     "metadata": {},
     "output_type": "execute_result"
    }
   ],
   "source": [
    "citibike['start_time'].dt.is_month_start"
   ]
  },
  {
   "cell_type": "code",
   "execution_count": 12,
   "id": "2c277efb",
   "metadata": {
    "ExecuteTime": {
     "end_time": "2024-11-16T14:58:09.875827Z",
     "start_time": "2024-11-16T14:58:09.817012Z"
    }
   },
   "outputs": [
    {
     "data": {
      "text/html": [
       "<div>\n",
       "<style scoped>\n",
       "    .dataframe tbody tr th:only-of-type {\n",
       "        vertical-align: middle;\n",
       "    }\n",
       "\n",
       "    .dataframe tbody tr th {\n",
       "        vertical-align: top;\n",
       "    }\n",
       "\n",
       "    .dataframe thead th {\n",
       "        text-align: right;\n",
       "    }\n",
       "</style>\n",
       "<table border=\"1\" class=\"dataframe\">\n",
       "  <thead>\n",
       "    <tr style=\"text-align: right;\">\n",
       "      <th></th>\n",
       "      <th>start_time</th>\n",
       "      <th>stop_time</th>\n",
       "      <th>Day_of_week</th>\n",
       "    </tr>\n",
       "  </thead>\n",
       "  <tbody>\n",
       "    <tr>\n",
       "      <th>0</th>\n",
       "      <td>2020-06-01 00:00:03.372</td>\n",
       "      <td>2020-06-01 00:17:46.208</td>\n",
       "      <td>Monday</td>\n",
       "    </tr>\n",
       "    <tr>\n",
       "      <th>1</th>\n",
       "      <td>2020-06-01 00:00:03.553</td>\n",
       "      <td>2020-06-01 01:03:33.936</td>\n",
       "      <td>Monday</td>\n",
       "    </tr>\n",
       "    <tr>\n",
       "      <th>2</th>\n",
       "      <td>2020-06-01 00:00:09.614</td>\n",
       "      <td>2020-06-01 00:17:06.833</td>\n",
       "      <td>Monday</td>\n",
       "    </tr>\n",
       "    <tr>\n",
       "      <th>3</th>\n",
       "      <td>2020-06-01 00:00:12.178</td>\n",
       "      <td>2020-06-01 00:03:58.864</td>\n",
       "      <td>Monday</td>\n",
       "    </tr>\n",
       "    <tr>\n",
       "      <th>4</th>\n",
       "      <td>2020-06-01 00:00:21.255</td>\n",
       "      <td>2020-06-01 00:24:18.965</td>\n",
       "      <td>Monday</td>\n",
       "    </tr>\n",
       "    <tr>\n",
       "      <th>...</th>\n",
       "      <td>...</td>\n",
       "      <td>...</td>\n",
       "      <td>...</td>\n",
       "    </tr>\n",
       "    <tr>\n",
       "      <th>52921</th>\n",
       "      <td>2020-06-01 22:42:34.732</td>\n",
       "      <td>2020-06-01 22:44:55.729</td>\n",
       "      <td>Monday</td>\n",
       "    </tr>\n",
       "    <tr>\n",
       "      <th>52922</th>\n",
       "      <td>2020-06-01 22:42:46.577</td>\n",
       "      <td>2020-06-01 22:44:49.309</td>\n",
       "      <td>Monday</td>\n",
       "    </tr>\n",
       "    <tr>\n",
       "      <th>52923</th>\n",
       "      <td>2020-06-01 22:42:47.175</td>\n",
       "      <td>2020-06-01 23:02:39.745</td>\n",
       "      <td>Monday</td>\n",
       "    </tr>\n",
       "    <tr>\n",
       "      <th>52924</th>\n",
       "      <td>2020-06-01 22:43:23.370</td>\n",
       "      <td>2020-06-01 23:28:17.450</td>\n",
       "      <td>Monday</td>\n",
       "    </tr>\n",
       "    <tr>\n",
       "      <th>52925</th>\n",
       "      <td>2020-06-01 22:43:58.171</td>\n",
       "      <td>2020-06-01 22:56:59.397</td>\n",
       "      <td>Monday</td>\n",
       "    </tr>\n",
       "  </tbody>\n",
       "</table>\n",
       "<p>52926 rows × 3 columns</p>\n",
       "</div>"
      ],
      "text/plain": [
       "                   start_time               stop_time Day_of_week\n",
       "0     2020-06-01 00:00:03.372 2020-06-01 00:17:46.208      Monday\n",
       "1     2020-06-01 00:00:03.553 2020-06-01 01:03:33.936      Monday\n",
       "2     2020-06-01 00:00:09.614 2020-06-01 00:17:06.833      Monday\n",
       "3     2020-06-01 00:00:12.178 2020-06-01 00:03:58.864      Monday\n",
       "4     2020-06-01 00:00:21.255 2020-06-01 00:24:18.965      Monday\n",
       "...                       ...                     ...         ...\n",
       "52921 2020-06-01 22:42:34.732 2020-06-01 22:44:55.729      Monday\n",
       "52922 2020-06-01 22:42:46.577 2020-06-01 22:44:49.309      Monday\n",
       "52923 2020-06-01 22:42:47.175 2020-06-01 23:02:39.745      Monday\n",
       "52924 2020-06-01 22:43:23.370 2020-06-01 23:28:17.450      Monday\n",
       "52925 2020-06-01 22:43:58.171 2020-06-01 22:56:59.397      Monday\n",
       "\n",
       "[52926 rows x 3 columns]"
      ]
     },
     "execution_count": 12,
     "metadata": {},
     "output_type": "execute_result"
    }
   ],
   "source": [
    "citibike[citibike['start_time'].dt.is_month_start]"
   ]
  },
  {
   "cell_type": "code",
   "execution_count": 13,
   "id": "786b78ed",
   "metadata": {
    "ExecuteTime": {
     "end_time": "2024-11-16T14:58:09.886125Z",
     "start_time": "2024-11-16T14:58:09.876833Z"
    }
   },
   "outputs": [
    {
     "data": {
      "text/html": [
       "<div>\n",
       "<style scoped>\n",
       "    .dataframe tbody tr th:only-of-type {\n",
       "        vertical-align: middle;\n",
       "    }\n",
       "\n",
       "    .dataframe tbody tr th {\n",
       "        vertical-align: top;\n",
       "    }\n",
       "\n",
       "    .dataframe thead th {\n",
       "        text-align: right;\n",
       "    }\n",
       "</style>\n",
       "<table border=\"1\" class=\"dataframe\">\n",
       "  <thead>\n",
       "    <tr style=\"text-align: right;\">\n",
       "      <th></th>\n",
       "      <th>start_time</th>\n",
       "      <th>stop_time</th>\n",
       "      <th>Day_of_week</th>\n",
       "    </tr>\n",
       "  </thead>\n",
       "  <tbody>\n",
       "    <tr>\n",
       "      <th>0</th>\n",
       "      <td>2020-06-01 00:00:03.372</td>\n",
       "      <td>2020-06-01 00:17:46.208</td>\n",
       "      <td>Monday</td>\n",
       "    </tr>\n",
       "    <tr>\n",
       "      <th>1</th>\n",
       "      <td>2020-06-01 00:00:03.553</td>\n",
       "      <td>2020-06-01 01:03:33.936</td>\n",
       "      <td>Monday</td>\n",
       "    </tr>\n",
       "    <tr>\n",
       "      <th>2</th>\n",
       "      <td>2020-06-01 00:00:09.614</td>\n",
       "      <td>2020-06-01 00:17:06.833</td>\n",
       "      <td>Monday</td>\n",
       "    </tr>\n",
       "    <tr>\n",
       "      <th>3</th>\n",
       "      <td>2020-06-01 00:00:12.178</td>\n",
       "      <td>2020-06-01 00:03:58.864</td>\n",
       "      <td>Monday</td>\n",
       "    </tr>\n",
       "    <tr>\n",
       "      <th>4</th>\n",
       "      <td>2020-06-01 00:00:21.255</td>\n",
       "      <td>2020-06-01 00:24:18.965</td>\n",
       "      <td>Monday</td>\n",
       "    </tr>\n",
       "    <tr>\n",
       "      <th>5</th>\n",
       "      <td>2020-06-01 00:00:22.650</td>\n",
       "      <td>2020-06-01 00:06:18.525</td>\n",
       "      <td>Monday</td>\n",
       "    </tr>\n",
       "    <tr>\n",
       "      <th>6</th>\n",
       "      <td>2020-06-01 00:00:25.456</td>\n",
       "      <td>2020-06-01 00:02:05.264</td>\n",
       "      <td>Monday</td>\n",
       "    </tr>\n",
       "    <tr>\n",
       "      <th>7</th>\n",
       "      <td>2020-06-01 00:00:27.588</td>\n",
       "      <td>2020-06-01 00:30:38.256</td>\n",
       "      <td>Monday</td>\n",
       "    </tr>\n",
       "    <tr>\n",
       "      <th>8</th>\n",
       "      <td>2020-06-01 00:00:48.850</td>\n",
       "      <td>2020-06-01 00:02:16.019</td>\n",
       "      <td>Monday</td>\n",
       "    </tr>\n",
       "    <tr>\n",
       "      <th>9</th>\n",
       "      <td>2020-06-01 00:00:50.341</td>\n",
       "      <td>2020-06-01 00:46:04.477</td>\n",
       "      <td>Monday</td>\n",
       "    </tr>\n",
       "    <tr>\n",
       "      <th>10</th>\n",
       "      <td>2020-06-01 00:00:56.245</td>\n",
       "      <td>2020-06-01 00:35:53.028</td>\n",
       "      <td>Monday</td>\n",
       "    </tr>\n",
       "    <tr>\n",
       "      <th>11</th>\n",
       "      <td>2020-06-01 00:00:57.779</td>\n",
       "      <td>2020-06-01 00:27:48.869</td>\n",
       "      <td>Monday</td>\n",
       "    </tr>\n",
       "    <tr>\n",
       "      <th>12</th>\n",
       "      <td>2020-06-01 00:00:58.910</td>\n",
       "      <td>2020-06-01 00:09:48.827</td>\n",
       "      <td>Monday</td>\n",
       "    </tr>\n",
       "    <tr>\n",
       "      <th>13</th>\n",
       "      <td>2020-06-01 00:00:59.957</td>\n",
       "      <td>2020-06-01 00:12:35.700</td>\n",
       "      <td>Monday</td>\n",
       "    </tr>\n",
       "    <tr>\n",
       "      <th>14</th>\n",
       "      <td>2020-06-01 00:00:59.977</td>\n",
       "      <td>2020-06-01 00:04:26.666</td>\n",
       "      <td>Monday</td>\n",
       "    </tr>\n",
       "    <tr>\n",
       "      <th>15</th>\n",
       "      <td>2020-06-01 00:01:04.175</td>\n",
       "      <td>2020-06-01 00:29:55.152</td>\n",
       "      <td>Monday</td>\n",
       "    </tr>\n",
       "    <tr>\n",
       "      <th>16</th>\n",
       "      <td>2020-06-01 00:01:10.287</td>\n",
       "      <td>2020-06-01 00:12:36.073</td>\n",
       "      <td>Monday</td>\n",
       "    </tr>\n",
       "    <tr>\n",
       "      <th>17</th>\n",
       "      <td>2020-06-01 00:01:13.652</td>\n",
       "      <td>2020-06-01 00:05:24.604</td>\n",
       "      <td>Monday</td>\n",
       "    </tr>\n",
       "    <tr>\n",
       "      <th>18</th>\n",
       "      <td>2020-06-01 00:01:13.720</td>\n",
       "      <td>2020-06-01 00:27:06.141</td>\n",
       "      <td>Monday</td>\n",
       "    </tr>\n",
       "    <tr>\n",
       "      <th>19</th>\n",
       "      <td>2020-06-01 00:01:15.962</td>\n",
       "      <td>2020-06-01 00:12:26.680</td>\n",
       "      <td>Monday</td>\n",
       "    </tr>\n",
       "    <tr>\n",
       "      <th>20</th>\n",
       "      <td>2020-06-01 00:01:18.018</td>\n",
       "      <td>2020-06-01 00:11:27.916</td>\n",
       "      <td>Monday</td>\n",
       "    </tr>\n",
       "    <tr>\n",
       "      <th>21</th>\n",
       "      <td>2020-06-01 00:01:22.115</td>\n",
       "      <td>2020-06-01 00:16:07.666</td>\n",
       "      <td>Monday</td>\n",
       "    </tr>\n",
       "    <tr>\n",
       "      <th>22</th>\n",
       "      <td>2020-06-01 00:01:22.582</td>\n",
       "      <td>2020-06-01 00:16:13.121</td>\n",
       "      <td>Monday</td>\n",
       "    </tr>\n",
       "    <tr>\n",
       "      <th>23</th>\n",
       "      <td>2020-06-01 00:01:26.681</td>\n",
       "      <td>2020-06-01 00:19:11.857</td>\n",
       "      <td>Monday</td>\n",
       "    </tr>\n",
       "    <tr>\n",
       "      <th>24</th>\n",
       "      <td>2020-06-01 00:01:37.955</td>\n",
       "      <td>2020-06-01 00:13:48.151</td>\n",
       "      <td>Monday</td>\n",
       "    </tr>\n",
       "    <tr>\n",
       "      <th>25</th>\n",
       "      <td>2020-06-01 00:01:40.505</td>\n",
       "      <td>2020-06-01 00:13:36.133</td>\n",
       "      <td>Monday</td>\n",
       "    </tr>\n",
       "    <tr>\n",
       "      <th>26</th>\n",
       "      <td>2020-06-01 00:01:53.262</td>\n",
       "      <td>2020-06-01 00:34:16.319</td>\n",
       "      <td>Monday</td>\n",
       "    </tr>\n",
       "    <tr>\n",
       "      <th>27</th>\n",
       "      <td>2020-06-01 00:02:01.682</td>\n",
       "      <td>2020-06-01 00:15:45.439</td>\n",
       "      <td>Monday</td>\n",
       "    </tr>\n",
       "    <tr>\n",
       "      <th>28</th>\n",
       "      <td>2020-06-01 00:02:07.013</td>\n",
       "      <td>2020-06-01 00:18:08.947</td>\n",
       "      <td>Monday</td>\n",
       "    </tr>\n",
       "    <tr>\n",
       "      <th>29</th>\n",
       "      <td>2020-06-01 00:02:12.843</td>\n",
       "      <td>2020-06-01 00:18:09.056</td>\n",
       "      <td>Monday</td>\n",
       "    </tr>\n",
       "    <tr>\n",
       "      <th>30</th>\n",
       "      <td>2020-06-01 00:02:24.771</td>\n",
       "      <td>2020-06-01 00:10:56.621</td>\n",
       "      <td>Monday</td>\n",
       "    </tr>\n",
       "    <tr>\n",
       "      <th>31</th>\n",
       "      <td>2020-06-01 00:02:35.254</td>\n",
       "      <td>2020-06-01 00:18:02.426</td>\n",
       "      <td>Monday</td>\n",
       "    </tr>\n",
       "    <tr>\n",
       "      <th>32</th>\n",
       "      <td>2020-06-01 00:02:40.680</td>\n",
       "      <td>2020-06-01 00:17:56.215</td>\n",
       "      <td>Monday</td>\n",
       "    </tr>\n",
       "    <tr>\n",
       "      <th>33</th>\n",
       "      <td>2020-06-01 00:02:41.210</td>\n",
       "      <td>2020-06-01 00:25:30.658</td>\n",
       "      <td>Monday</td>\n",
       "    </tr>\n",
       "    <tr>\n",
       "      <th>34</th>\n",
       "      <td>2020-06-01 00:02:44.484</td>\n",
       "      <td>2020-06-01 00:10:03.575</td>\n",
       "      <td>Monday</td>\n",
       "    </tr>\n",
       "    <tr>\n",
       "      <th>35</th>\n",
       "      <td>2020-06-01 00:02:47.278</td>\n",
       "      <td>2020-06-01 00:12:11.802</td>\n",
       "      <td>Monday</td>\n",
       "    </tr>\n",
       "    <tr>\n",
       "      <th>36</th>\n",
       "      <td>2020-06-01 00:02:50.084</td>\n",
       "      <td>2020-06-01 00:21:43.947</td>\n",
       "      <td>Monday</td>\n",
       "    </tr>\n",
       "    <tr>\n",
       "      <th>37</th>\n",
       "      <td>2020-06-01 00:03:07.567</td>\n",
       "      <td>2020-06-01 00:21:59.108</td>\n",
       "      <td>Monday</td>\n",
       "    </tr>\n",
       "    <tr>\n",
       "      <th>38</th>\n",
       "      <td>2020-06-01 00:03:08.358</td>\n",
       "      <td>2020-06-01 00:11:00.002</td>\n",
       "      <td>Monday</td>\n",
       "    </tr>\n",
       "    <tr>\n",
       "      <th>39</th>\n",
       "      <td>2020-06-01 00:03:13.630</td>\n",
       "      <td>2020-06-01 00:18:46.320</td>\n",
       "      <td>Monday</td>\n",
       "    </tr>\n",
       "    <tr>\n",
       "      <th>40</th>\n",
       "      <td>2020-06-01 00:03:17.489</td>\n",
       "      <td>2020-06-01 00:22:31.677</td>\n",
       "      <td>Monday</td>\n",
       "    </tr>\n",
       "    <tr>\n",
       "      <th>41</th>\n",
       "      <td>2020-06-01 00:03:20.740</td>\n",
       "      <td>2020-06-01 00:18:34.168</td>\n",
       "      <td>Monday</td>\n",
       "    </tr>\n",
       "    <tr>\n",
       "      <th>42</th>\n",
       "      <td>2020-06-01 00:03:27.215</td>\n",
       "      <td>2020-06-01 00:10:54.431</td>\n",
       "      <td>Monday</td>\n",
       "    </tr>\n",
       "    <tr>\n",
       "      <th>43</th>\n",
       "      <td>2020-06-01 00:03:31.406</td>\n",
       "      <td>2020-06-01 00:27:55.798</td>\n",
       "      <td>Monday</td>\n",
       "    </tr>\n",
       "    <tr>\n",
       "      <th>44</th>\n",
       "      <td>2020-06-01 00:03:47.820</td>\n",
       "      <td>2020-06-01 00:09:41.822</td>\n",
       "      <td>Monday</td>\n",
       "    </tr>\n",
       "    <tr>\n",
       "      <th>45</th>\n",
       "      <td>2020-06-01 00:04:02.971</td>\n",
       "      <td>2020-06-01 22:46:49.076</td>\n",
       "      <td>Monday</td>\n",
       "    </tr>\n",
       "    <tr>\n",
       "      <th>46</th>\n",
       "      <td>2020-06-01 00:04:09.430</td>\n",
       "      <td>2020-06-01 00:35:53.295</td>\n",
       "      <td>Monday</td>\n",
       "    </tr>\n",
       "    <tr>\n",
       "      <th>47</th>\n",
       "      <td>2020-06-01 00:04:20.291</td>\n",
       "      <td>2020-06-01 00:06:01.279</td>\n",
       "      <td>Monday</td>\n",
       "    </tr>\n",
       "    <tr>\n",
       "      <th>48</th>\n",
       "      <td>2020-06-01 00:04:22.685</td>\n",
       "      <td>2020-06-01 00:25:49.632</td>\n",
       "      <td>Monday</td>\n",
       "    </tr>\n",
       "    <tr>\n",
       "      <th>49</th>\n",
       "      <td>2020-06-01 00:04:44.199</td>\n",
       "      <td>2020-06-01 01:16:33.732</td>\n",
       "      <td>Monday</td>\n",
       "    </tr>\n",
       "  </tbody>\n",
       "</table>\n",
       "</div>"
      ],
      "text/plain": [
       "                start_time               stop_time Day_of_week\n",
       "0  2020-06-01 00:00:03.372 2020-06-01 00:17:46.208      Monday\n",
       "1  2020-06-01 00:00:03.553 2020-06-01 01:03:33.936      Monday\n",
       "2  2020-06-01 00:00:09.614 2020-06-01 00:17:06.833      Monday\n",
       "3  2020-06-01 00:00:12.178 2020-06-01 00:03:58.864      Monday\n",
       "4  2020-06-01 00:00:21.255 2020-06-01 00:24:18.965      Monday\n",
       "5  2020-06-01 00:00:22.650 2020-06-01 00:06:18.525      Monday\n",
       "6  2020-06-01 00:00:25.456 2020-06-01 00:02:05.264      Monday\n",
       "7  2020-06-01 00:00:27.588 2020-06-01 00:30:38.256      Monday\n",
       "8  2020-06-01 00:00:48.850 2020-06-01 00:02:16.019      Monday\n",
       "9  2020-06-01 00:00:50.341 2020-06-01 00:46:04.477      Monday\n",
       "10 2020-06-01 00:00:56.245 2020-06-01 00:35:53.028      Monday\n",
       "11 2020-06-01 00:00:57.779 2020-06-01 00:27:48.869      Monday\n",
       "12 2020-06-01 00:00:58.910 2020-06-01 00:09:48.827      Monday\n",
       "13 2020-06-01 00:00:59.957 2020-06-01 00:12:35.700      Monday\n",
       "14 2020-06-01 00:00:59.977 2020-06-01 00:04:26.666      Monday\n",
       "15 2020-06-01 00:01:04.175 2020-06-01 00:29:55.152      Monday\n",
       "16 2020-06-01 00:01:10.287 2020-06-01 00:12:36.073      Monday\n",
       "17 2020-06-01 00:01:13.652 2020-06-01 00:05:24.604      Monday\n",
       "18 2020-06-01 00:01:13.720 2020-06-01 00:27:06.141      Monday\n",
       "19 2020-06-01 00:01:15.962 2020-06-01 00:12:26.680      Monday\n",
       "20 2020-06-01 00:01:18.018 2020-06-01 00:11:27.916      Monday\n",
       "21 2020-06-01 00:01:22.115 2020-06-01 00:16:07.666      Monday\n",
       "22 2020-06-01 00:01:22.582 2020-06-01 00:16:13.121      Monday\n",
       "23 2020-06-01 00:01:26.681 2020-06-01 00:19:11.857      Monday\n",
       "24 2020-06-01 00:01:37.955 2020-06-01 00:13:48.151      Monday\n",
       "25 2020-06-01 00:01:40.505 2020-06-01 00:13:36.133      Monday\n",
       "26 2020-06-01 00:01:53.262 2020-06-01 00:34:16.319      Monday\n",
       "27 2020-06-01 00:02:01.682 2020-06-01 00:15:45.439      Monday\n",
       "28 2020-06-01 00:02:07.013 2020-06-01 00:18:08.947      Monday\n",
       "29 2020-06-01 00:02:12.843 2020-06-01 00:18:09.056      Monday\n",
       "30 2020-06-01 00:02:24.771 2020-06-01 00:10:56.621      Monday\n",
       "31 2020-06-01 00:02:35.254 2020-06-01 00:18:02.426      Monday\n",
       "32 2020-06-01 00:02:40.680 2020-06-01 00:17:56.215      Monday\n",
       "33 2020-06-01 00:02:41.210 2020-06-01 00:25:30.658      Monday\n",
       "34 2020-06-01 00:02:44.484 2020-06-01 00:10:03.575      Monday\n",
       "35 2020-06-01 00:02:47.278 2020-06-01 00:12:11.802      Monday\n",
       "36 2020-06-01 00:02:50.084 2020-06-01 00:21:43.947      Monday\n",
       "37 2020-06-01 00:03:07.567 2020-06-01 00:21:59.108      Monday\n",
       "38 2020-06-01 00:03:08.358 2020-06-01 00:11:00.002      Monday\n",
       "39 2020-06-01 00:03:13.630 2020-06-01 00:18:46.320      Monday\n",
       "40 2020-06-01 00:03:17.489 2020-06-01 00:22:31.677      Monday\n",
       "41 2020-06-01 00:03:20.740 2020-06-01 00:18:34.168      Monday\n",
       "42 2020-06-01 00:03:27.215 2020-06-01 00:10:54.431      Monday\n",
       "43 2020-06-01 00:03:31.406 2020-06-01 00:27:55.798      Monday\n",
       "44 2020-06-01 00:03:47.820 2020-06-01 00:09:41.822      Monday\n",
       "45 2020-06-01 00:04:02.971 2020-06-01 22:46:49.076      Monday\n",
       "46 2020-06-01 00:04:09.430 2020-06-01 00:35:53.295      Monday\n",
       "47 2020-06-01 00:04:20.291 2020-06-01 00:06:01.279      Monday\n",
       "48 2020-06-01 00:04:22.685 2020-06-01 00:25:49.632      Monday\n",
       "49 2020-06-01 00:04:44.199 2020-06-01 01:16:33.732      Monday"
      ]
     },
     "execution_count": 13,
     "metadata": {},
     "output_type": "execute_result"
    }
   ],
   "source": [
    "citibike.head(50)"
   ]
  },
  {
   "cell_type": "code",
   "execution_count": null,
   "id": "76402826",
   "metadata": {},
   "outputs": [],
   "source": []
  },
  {
   "cell_type": "code",
   "execution_count": null,
   "id": "c7b3bfbf",
   "metadata": {},
   "outputs": [],
   "source": []
  },
  {
   "cell_type": "code",
   "execution_count": null,
   "id": "eb2f8306",
   "metadata": {},
   "outputs": [],
   "source": []
  },
  {
   "cell_type": "markdown",
   "id": "f89ce82a",
   "metadata": {},
   "source": [
    "# Q4:Calculate the duration of each ride,and save the result in new duration column"
   ]
  },
  {
   "cell_type": "code",
   "execution_count": 14,
   "id": "737b8e2e",
   "metadata": {
    "ExecuteTime": {
     "end_time": "2024-11-16T14:58:12.612716Z",
     "start_time": "2024-11-16T14:58:09.888134Z"
    }
   },
   "outputs": [
    {
     "ename": "KeyError",
     "evalue": "\"['Dueartion'] not found in axis\"",
     "output_type": "error",
     "traceback": [
      "\u001b[1;31m---------------------------------------------------------------------------\u001b[0m",
      "\u001b[1;31mKeyError\u001b[0m                                  Traceback (most recent call last)",
      "Cell \u001b[1;32mIn[14], line 1\u001b[0m\n\u001b[1;32m----> 1\u001b[0m citibike\u001b[38;5;241m.\u001b[39mdrop(\u001b[38;5;124m'\u001b[39m\u001b[38;5;124mDueartion\u001b[39m\u001b[38;5;124m'\u001b[39m,axis\u001b[38;5;241m=\u001b[39m\u001b[38;5;241m1\u001b[39m,inplace\u001b[38;5;241m=\u001b[39m\u001b[38;5;28;01mTrue\u001b[39;00m)\n",
      "File \u001b[1;32m~\\anaconda3\\Lib\\site-packages\\pandas\\core\\frame.py:5258\u001b[0m, in \u001b[0;36mDataFrame.drop\u001b[1;34m(self, labels, axis, index, columns, level, inplace, errors)\u001b[0m\n\u001b[0;32m   5110\u001b[0m \u001b[38;5;28;01mdef\u001b[39;00m \u001b[38;5;21mdrop\u001b[39m(\n\u001b[0;32m   5111\u001b[0m     \u001b[38;5;28mself\u001b[39m,\n\u001b[0;32m   5112\u001b[0m     labels: IndexLabel \u001b[38;5;241m=\u001b[39m \u001b[38;5;28;01mNone\u001b[39;00m,\n\u001b[1;32m   (...)\u001b[0m\n\u001b[0;32m   5119\u001b[0m     errors: IgnoreRaise \u001b[38;5;241m=\u001b[39m \u001b[38;5;124m\"\u001b[39m\u001b[38;5;124mraise\u001b[39m\u001b[38;5;124m\"\u001b[39m,\n\u001b[0;32m   5120\u001b[0m ) \u001b[38;5;241m-\u001b[39m\u001b[38;5;241m>\u001b[39m DataFrame \u001b[38;5;241m|\u001b[39m \u001b[38;5;28;01mNone\u001b[39;00m:\n\u001b[0;32m   5121\u001b[0m \u001b[38;5;250m    \u001b[39m\u001b[38;5;124;03m\"\"\"\u001b[39;00m\n\u001b[0;32m   5122\u001b[0m \u001b[38;5;124;03m    Drop specified labels from rows or columns.\u001b[39;00m\n\u001b[0;32m   5123\u001b[0m \n\u001b[1;32m   (...)\u001b[0m\n\u001b[0;32m   5256\u001b[0m \u001b[38;5;124;03m            weight  1.0     0.8\u001b[39;00m\n\u001b[0;32m   5257\u001b[0m \u001b[38;5;124;03m    \"\"\"\u001b[39;00m\n\u001b[1;32m-> 5258\u001b[0m     \u001b[38;5;28;01mreturn\u001b[39;00m \u001b[38;5;28msuper\u001b[39m()\u001b[38;5;241m.\u001b[39mdrop(\n\u001b[0;32m   5259\u001b[0m         labels\u001b[38;5;241m=\u001b[39mlabels,\n\u001b[0;32m   5260\u001b[0m         axis\u001b[38;5;241m=\u001b[39maxis,\n\u001b[0;32m   5261\u001b[0m         index\u001b[38;5;241m=\u001b[39mindex,\n\u001b[0;32m   5262\u001b[0m         columns\u001b[38;5;241m=\u001b[39mcolumns,\n\u001b[0;32m   5263\u001b[0m         level\u001b[38;5;241m=\u001b[39mlevel,\n\u001b[0;32m   5264\u001b[0m         inplace\u001b[38;5;241m=\u001b[39minplace,\n\u001b[0;32m   5265\u001b[0m         errors\u001b[38;5;241m=\u001b[39merrors,\n\u001b[0;32m   5266\u001b[0m     )\n",
      "File \u001b[1;32m~\\anaconda3\\Lib\\site-packages\\pandas\\core\\generic.py:4549\u001b[0m, in \u001b[0;36mNDFrame.drop\u001b[1;34m(self, labels, axis, index, columns, level, inplace, errors)\u001b[0m\n\u001b[0;32m   4547\u001b[0m \u001b[38;5;28;01mfor\u001b[39;00m axis, labels \u001b[38;5;129;01min\u001b[39;00m axes\u001b[38;5;241m.\u001b[39mitems():\n\u001b[0;32m   4548\u001b[0m     \u001b[38;5;28;01mif\u001b[39;00m labels \u001b[38;5;129;01mis\u001b[39;00m \u001b[38;5;129;01mnot\u001b[39;00m \u001b[38;5;28;01mNone\u001b[39;00m:\n\u001b[1;32m-> 4549\u001b[0m         obj \u001b[38;5;241m=\u001b[39m obj\u001b[38;5;241m.\u001b[39m_drop_axis(labels, axis, level\u001b[38;5;241m=\u001b[39mlevel, errors\u001b[38;5;241m=\u001b[39merrors)\n\u001b[0;32m   4551\u001b[0m \u001b[38;5;28;01mif\u001b[39;00m inplace:\n\u001b[0;32m   4552\u001b[0m     \u001b[38;5;28mself\u001b[39m\u001b[38;5;241m.\u001b[39m_update_inplace(obj)\n",
      "File \u001b[1;32m~\\anaconda3\\Lib\\site-packages\\pandas\\core\\generic.py:4591\u001b[0m, in \u001b[0;36mNDFrame._drop_axis\u001b[1;34m(self, labels, axis, level, errors, only_slice)\u001b[0m\n\u001b[0;32m   4589\u001b[0m         new_axis \u001b[38;5;241m=\u001b[39m axis\u001b[38;5;241m.\u001b[39mdrop(labels, level\u001b[38;5;241m=\u001b[39mlevel, errors\u001b[38;5;241m=\u001b[39merrors)\n\u001b[0;32m   4590\u001b[0m     \u001b[38;5;28;01melse\u001b[39;00m:\n\u001b[1;32m-> 4591\u001b[0m         new_axis \u001b[38;5;241m=\u001b[39m axis\u001b[38;5;241m.\u001b[39mdrop(labels, errors\u001b[38;5;241m=\u001b[39merrors)\n\u001b[0;32m   4592\u001b[0m     indexer \u001b[38;5;241m=\u001b[39m axis\u001b[38;5;241m.\u001b[39mget_indexer(new_axis)\n\u001b[0;32m   4594\u001b[0m \u001b[38;5;66;03m# Case for non-unique axis\u001b[39;00m\n\u001b[0;32m   4595\u001b[0m \u001b[38;5;28;01melse\u001b[39;00m:\n",
      "File \u001b[1;32m~\\anaconda3\\Lib\\site-packages\\pandas\\core\\indexes\\base.py:6699\u001b[0m, in \u001b[0;36mIndex.drop\u001b[1;34m(self, labels, errors)\u001b[0m\n\u001b[0;32m   6697\u001b[0m \u001b[38;5;28;01mif\u001b[39;00m mask\u001b[38;5;241m.\u001b[39many():\n\u001b[0;32m   6698\u001b[0m     \u001b[38;5;28;01mif\u001b[39;00m errors \u001b[38;5;241m!=\u001b[39m \u001b[38;5;124m\"\u001b[39m\u001b[38;5;124mignore\u001b[39m\u001b[38;5;124m\"\u001b[39m:\n\u001b[1;32m-> 6699\u001b[0m         \u001b[38;5;28;01mraise\u001b[39;00m \u001b[38;5;167;01mKeyError\u001b[39;00m(\u001b[38;5;124mf\u001b[39m\u001b[38;5;124m\"\u001b[39m\u001b[38;5;132;01m{\u001b[39;00m\u001b[38;5;28mlist\u001b[39m(labels[mask])\u001b[38;5;132;01m}\u001b[39;00m\u001b[38;5;124m not found in axis\u001b[39m\u001b[38;5;124m\"\u001b[39m)\n\u001b[0;32m   6700\u001b[0m     indexer \u001b[38;5;241m=\u001b[39m indexer[\u001b[38;5;241m~\u001b[39mmask]\n\u001b[0;32m   6701\u001b[0m \u001b[38;5;28;01mreturn\u001b[39;00m \u001b[38;5;28mself\u001b[39m\u001b[38;5;241m.\u001b[39mdelete(indexer)\n",
      "\u001b[1;31mKeyError\u001b[0m: \"['Dueartion'] not found in axis\""
     ]
    }
   ],
   "source": [
    "citibike.drop('Dueartion',axis=1,inplace=True)"
   ]
  },
  {
   "cell_type": "code",
   "execution_count": null,
   "id": "37ec7bc2",
   "metadata": {
    "ExecuteTime": {
     "end_time": "2024-11-16T14:58:12.614969Z",
     "start_time": "2024-11-16T14:58:12.614969Z"
    }
   },
   "outputs": [],
   "source": [
    "citibike['Duration']=citibike['stop_time']-citibike['start_time']"
   ]
  },
  {
   "cell_type": "code",
   "execution_count": null,
   "id": "2a657e86",
   "metadata": {
    "ExecuteTime": {
     "end_time": "2024-11-16T14:58:12.616115Z",
     "start_time": "2024-11-16T14:58:12.616115Z"
    }
   },
   "outputs": [],
   "source": [
    "citibike"
   ]
  },
  {
   "cell_type": "markdown",
   "id": "aa388641",
   "metadata": {},
   "source": [
    "# Q5: Find the avg duration of a bike ride"
   ]
  },
  {
   "cell_type": "code",
   "execution_count": null,
   "id": "b629b8ae",
   "metadata": {
    "ExecuteTime": {
     "end_time": "2024-11-16T14:58:12.617124Z",
     "start_time": "2024-11-16T14:58:12.617124Z"
    }
   },
   "outputs": [],
   "source": [
    "citibike['Duration'].mean()"
   ]
  },
  {
   "cell_type": "markdown",
   "id": "6fc49f77",
   "metadata": {},
   "source": [
    "# Q6:Extract the five longest bike rides by duration from the data set "
   ]
  },
  {
   "cell_type": "code",
   "execution_count": null,
   "id": "ffe37a98",
   "metadata": {
    "ExecuteTime": {
     "end_time": "2024-11-16T14:58:12.618123Z",
     "start_time": "2024-11-16T14:58:12.618123Z"
    }
   },
   "outputs": [],
   "source": [
    "citibike['Duration'].sort_values(ascending=False).head(5)"
   ]
  },
  {
   "cell_type": "code",
   "execution_count": null,
   "id": "e4933a28",
   "metadata": {},
   "outputs": [],
   "source": []
  }
 ],
 "metadata": {
  "kernelspec": {
   "display_name": "Python 3 (ipykernel)",
   "language": "python",
   "name": "python3"
  },
  "language_info": {
   "codemirror_mode": {
    "name": "ipython",
    "version": 3
   },
   "file_extension": ".py",
   "mimetype": "text/x-python",
   "name": "python",
   "nbconvert_exporter": "python",
   "pygments_lexer": "ipython3",
   "version": "3.11.5"
  },
  "varInspector": {
   "cols": {
    "lenName": 16,
    "lenType": 16,
    "lenVar": 40
   },
   "kernels_config": {
    "python": {
     "delete_cmd_postfix": "",
     "delete_cmd_prefix": "del ",
     "library": "var_list.py",
     "varRefreshCmd": "print(var_dic_list())"
    },
    "r": {
     "delete_cmd_postfix": ") ",
     "delete_cmd_prefix": "rm(",
     "library": "var_list.r",
     "varRefreshCmd": "cat(var_dic_list()) "
    }
   },
   "types_to_exclude": [
    "module",
    "function",
    "builtin_function_or_method",
    "instance",
    "_Feature"
   ],
   "window_display": false
  }
 },
 "nbformat": 4,
 "nbformat_minor": 5
}
